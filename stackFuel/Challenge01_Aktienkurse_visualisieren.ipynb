{
 "metadata": {
  "language_info": {
   "codemirror_mode": {
    "name": "ipython",
    "version": 3
   },
   "file_extension": ".py",
   "mimetype": "text/x-python",
   "name": "python",
   "nbconvert_exporter": "python",
   "pygments_lexer": "ipython3",
   "version": "3.7.6-final"
  },
  "orig_nbformat": 2,
  "kernelspec": {
   "name": "python3",
   "display_name": "Python 3",
   "language": "python"
  }
 },
 "nbformat": 4,
 "nbformat_minor": 2,
 "cells": [
  {
   "cell_type": "code",
   "execution_count": 5,
   "metadata": {},
   "outputs": [],
   "source": [
    "# displaying all prints in one frame\n",
    "from IPython.core.interactiveshell import InteractiveShell\n",
    "InteractiveShell.ast_node_interactivity = \"all\""
   ]
  },
  {
   "source": [
    "# Challenge 01: Aktienkurse visualisieren\n",
    "\n",
    "Heute sind wir in der Finanzwelt und werden Aktienkurse visualisieren. Als Data Analyst und Data Scientist ist es sehr wichtig mit aussagekräftigen, vereinfachten Visualisierungen deine Handlungsempfehlungen zu bestärken und zu erklären. \n",
    "\n",
    "Diese Challenge besteht aus 4 Untereinheiten. Dabei lernen wir das Laden von Paketen, Datenimport und Datenwrangling und der Visualisierung. Viel Erfolg!\n",
    "\n",
    "\n"
   ],
   "cell_type": "markdown",
   "metadata": {}
  },
  {
   "source": [
    "### 01-00: Pakete laden\n",
    "pandas ist ein gängiges Paket, wenn man Daten analysieren möchte. Wir wollen pandas als pd abkürzen. Gib dazu folgendes ein:\n",
    "\n",
    "import pandas as pd"
   ],
   "cell_type": "markdown",
   "metadata": {}
  },
  {
   "cell_type": "code",
   "execution_count": 13,
   "metadata": {},
   "outputs": [
    {
     "output_type": "error",
     "ename": "ImportError",
     "evalue": "Unable to import required dependencies:\nnumpy: \n\nIMPORTANT: PLEASE READ THIS FOR ADVICE ON HOW TO SOLVE THIS ISSUE!\n\nImporting the numpy c-extensions failed.\n- Try uninstalling and reinstalling numpy.\n- If you have already done that, then:\n  1. Check that you expected to use Python3.7 from \"C:\\ProgramData\\Anaconda3\\python.exe\",\n     and that you have no directories in your PATH or PYTHONPATH that can\n     interfere with the Python and numpy version \"1.18.1\" you're trying to use.\n  2. If (1) looks fine, you can open a new issue at\n     https://github.com/numpy/numpy/issues.  Please include details on:\n     - how you installed Python\n     - how you installed numpy\n     - your operating system\n     - whether or not you have multiple versions of Python installed\n     - if you built from source, your compiler versions and ideally a build log\n\n- If you're working with a numpy git repository, try `git clean -xdf`\n  (removes all files not under version control) and rebuild numpy.\n\nNote: this error has many possible causes, so please don't comment on\nan existing issue about this - open a new one instead.\n\nOriginal error was: DLL load failed: Das angegebene Modul wurde nicht gefunden.\n",
     "traceback": [
      "\u001b[1;31m---------------------------------------------------------------------------\u001b[0m",
      "\u001b[1;31mImportError\u001b[0m                               Traceback (most recent call last)",
      "\u001b[1;32m<ipython-input-13-8ea90bbc94e2>\u001b[0m in \u001b[0;36m<module>\u001b[1;34m\u001b[0m\n\u001b[1;32m----> 1\u001b[1;33m \u001b[1;32mimport\u001b[0m \u001b[0mpandas\u001b[0m \u001b[1;32mas\u001b[0m \u001b[0mpd\u001b[0m\u001b[1;33m\u001b[0m\u001b[1;33m\u001b[0m\u001b[0m\n\u001b[0m\u001b[0;32m      2\u001b[0m \u001b[1;33m\u001b[0m\u001b[0m\n\u001b[0;32m      3\u001b[0m \u001b[1;31m# Using matplotlib backend\u001b[0m\u001b[1;33m\u001b[0m\u001b[1;33m\u001b[0m\u001b[1;33m\u001b[0m\u001b[0m\n\u001b[0;32m      4\u001b[0m \u001b[1;31m# %matplotlib inline\u001b[0m\u001b[1;33m\u001b[0m\u001b[1;33m\u001b[0m\u001b[1;33m\u001b[0m\u001b[0m\n\u001b[0;32m      5\u001b[0m \u001b[1;33m\u001b[0m\u001b[0m\n",
      "\u001b[1;32mC:\\ProgramData\\Anaconda3\\lib\\site-packages\\pandas\\__init__.py\u001b[0m in \u001b[0;36m<module>\u001b[1;34m\u001b[0m\n\u001b[0;32m     15\u001b[0m \u001b[1;32mif\u001b[0m \u001b[0mmissing_dependencies\u001b[0m\u001b[1;33m:\u001b[0m\u001b[1;33m\u001b[0m\u001b[1;33m\u001b[0m\u001b[0m\n\u001b[0;32m     16\u001b[0m     raise ImportError(\n\u001b[1;32m---> 17\u001b[1;33m         \u001b[1;34m\"Unable to import required dependencies:\\n\"\u001b[0m \u001b[1;33m+\u001b[0m \u001b[1;34m\"\\n\"\u001b[0m\u001b[1;33m.\u001b[0m\u001b[0mjoin\u001b[0m\u001b[1;33m(\u001b[0m\u001b[0mmissing_dependencies\u001b[0m\u001b[1;33m)\u001b[0m\u001b[1;33m\u001b[0m\u001b[1;33m\u001b[0m\u001b[0m\n\u001b[0m\u001b[0;32m     18\u001b[0m     )\n\u001b[0;32m     19\u001b[0m \u001b[1;32mdel\u001b[0m \u001b[0mhard_dependencies\u001b[0m\u001b[1;33m,\u001b[0m \u001b[0mdependency\u001b[0m\u001b[1;33m,\u001b[0m \u001b[0mmissing_dependencies\u001b[0m\u001b[1;33m\u001b[0m\u001b[1;33m\u001b[0m\u001b[0m\n",
      "\u001b[1;31mImportError\u001b[0m: Unable to import required dependencies:\nnumpy: \n\nIMPORTANT: PLEASE READ THIS FOR ADVICE ON HOW TO SOLVE THIS ISSUE!\n\nImporting the numpy c-extensions failed.\n- Try uninstalling and reinstalling numpy.\n- If you have already done that, then:\n  1. Check that you expected to use Python3.7 from \"C:\\ProgramData\\Anaconda3\\python.exe\",\n     and that you have no directories in your PATH or PYTHONPATH that can\n     interfere with the Python and numpy version \"1.18.1\" you're trying to use.\n  2. If (1) looks fine, you can open a new issue at\n     https://github.com/numpy/numpy/issues.  Please include details on:\n     - how you installed Python\n     - how you installed numpy\n     - your operating system\n     - whether or not you have multiple versions of Python installed\n     - if you built from source, your compiler versions and ideally a build log\n\n- If you're working with a numpy git repository, try `git clean -xdf`\n  (removes all files not under version control) and rebuild numpy.\n\nNote: this error has many possible causes, so please don't comment on\nan existing issue about this - open a new one instead.\n\nOriginal error was: DLL load failed: Das angegebene Modul wurde nicht gefunden.\n"
     ]
    }
   ],
   "source": [
    "import pandas as pd\n",
    "\n",
    "# Using matplotlib backend\n",
    "# %matplotlib inline\n",
    "\n",
    "import matplotlib.pyplot as plt"
   ]
  },
  {
   "source": [
    "### 01-01: Data Import\n",
    "\n",
    "Um die Daten zu bekommen, gehe auf den folgenden Link und lade sie in unser Ordner. Falls du den Link nicht siehst, maximiere dein Fenster und schau rechts oberhalb der Tabelle nochmal genauer.\n",
    "\n",
    "http://www.nasdaq.com/symbol/fb/historical \n",
    "\n",
    "Diese Tabelle ist als csv-Datei abgelagert. Dieser Dateiformat wird gern genutzt, da sie wenig Speicherplatz braucht. csv steht für comma separated values. Die Werte sollten also mit Kommas separiert sein. Das ist nicht immer so. Manchmal sind es auch Tabs oder Semikolons.\n",
    "\n",
    "Um deine Tabelle in Python zu laden und in die Variable ‘data’ zu speichern, nutze folgende Funktion:\n",
    "pd.read_csv(\"[Dateiname.csv]\")\n"
   ],
   "cell_type": "markdown",
   "metadata": {}
  },
  {
   "cell_type": "code",
   "execution_count": 193,
   "metadata": {},
   "outputs": [],
   "source": [
    "df = pd.read_csv(\"HistoricalQuotes.csv\")"
   ]
  },
  {
   "source": [
    "### 01-02: Data Wrangling\n",
    "Eine erste Übersicht bekommst du mit dear Funktion head() und dtypes. head() zeigt dir den Inhalt der ersten 5 Zeilen an, um zu schauen, ob der Import auch funktioniert hat. dtypes zeigt dir an, welche Spalte als Zahl (int64) oder String (object) erkannt wird."
   ],
   "cell_type": "markdown",
   "metadata": {}
  },
  {
   "cell_type": "code",
   "execution_count": 196,
   "metadata": {},
   "outputs": [
    {
     "output_type": "execute_result",
     "data": {
      "text/plain": [
       "         Date  Close/Last    Volume       Open      High       Low\n",
       "0  12/16/2020     $275.67  15885000    $274.76   $277.86   $272.51\n",
       "1  12/15/2020     $275.55  23979460    $274.83   $276.08   $267.47\n",
       "2  12/14/2020     $274.19  16376880   $273.372   $277.22   $271.56\n",
       "3  12/11/2020     $273.55  14391400    $274.53   $276.48   $270.25\n",
       "4  12/10/2020     $277.12  20065090   $275.535   $278.73   $271.86"
      ],
      "text/html": "<div>\n<style scoped>\n    .dataframe tbody tr th:only-of-type {\n        vertical-align: middle;\n    }\n\n    .dataframe tbody tr th {\n        vertical-align: top;\n    }\n\n    .dataframe thead th {\n        text-align: right;\n    }\n</style>\n<table border=\"1\" class=\"dataframe\">\n  <thead>\n    <tr style=\"text-align: right;\">\n      <th></th>\n      <th>Date</th>\n      <th>Close/Last</th>\n      <th>Volume</th>\n      <th>Open</th>\n      <th>High</th>\n      <th>Low</th>\n    </tr>\n  </thead>\n  <tbody>\n    <tr>\n      <th>0</th>\n      <td>12/16/2020</td>\n      <td>$275.67</td>\n      <td>15885000</td>\n      <td>$274.76</td>\n      <td>$277.86</td>\n      <td>$272.51</td>\n    </tr>\n    <tr>\n      <th>1</th>\n      <td>12/15/2020</td>\n      <td>$275.55</td>\n      <td>23979460</td>\n      <td>$274.83</td>\n      <td>$276.08</td>\n      <td>$267.47</td>\n    </tr>\n    <tr>\n      <th>2</th>\n      <td>12/14/2020</td>\n      <td>$274.19</td>\n      <td>16376880</td>\n      <td>$273.372</td>\n      <td>$277.22</td>\n      <td>$271.56</td>\n    </tr>\n    <tr>\n      <th>3</th>\n      <td>12/11/2020</td>\n      <td>$273.55</td>\n      <td>14391400</td>\n      <td>$274.53</td>\n      <td>$276.48</td>\n      <td>$270.25</td>\n    </tr>\n    <tr>\n      <th>4</th>\n      <td>12/10/2020</td>\n      <td>$277.12</td>\n      <td>20065090</td>\n      <td>$275.535</td>\n      <td>$278.73</td>\n      <td>$271.86</td>\n    </tr>\n  </tbody>\n</table>\n</div>"
     },
     "metadata": {},
     "execution_count": 196
    },
    {
     "output_type": "execute_result",
     "data": {
      "text/plain": [
       "Date           object\n",
       " Close/Last    object\n",
       " Volume         int64\n",
       " Open          object\n",
       " High          object\n",
       " Low           object\n",
       "dtype: object"
      ]
     },
     "metadata": {},
     "execution_count": 196
    }
   ],
   "source": [
    "df.head()\n",
    "df.dtypes"
   ]
  },
  {
   "cell_type": "code",
   "execution_count": 238,
   "metadata": {},
   "outputs": [
    {
     "output_type": "execute_result",
     "data": {
      "text/plain": [
       "Index(['Date', 'Close', 'Volumen', 'Open', 'High', 'Low'], dtype='object')"
      ]
     },
     "metadata": {},
     "execution_count": 238
    },
    {
     "output_type": "execute_result",
     "data": {
      "text/plain": [
       "         Date   Close     Volumen     Open    High     Low\n",
       "0  12/16/2020  275.67  15885000.0  274.760  277.86  272.51\n",
       "1  12/15/2020  275.55  23979460.0  274.830  276.08  267.47\n",
       "2  12/14/2020  274.19  16376880.0  273.372  277.22  271.56\n",
       "3  12/11/2020  273.55  14391400.0  274.530  276.48  270.25\n",
       "4  12/10/2020  277.12  20065090.0  275.535  278.73  271.86"
      ],
      "text/html": "<div>\n<style scoped>\n    .dataframe tbody tr th:only-of-type {\n        vertical-align: middle;\n    }\n\n    .dataframe tbody tr th {\n        vertical-align: top;\n    }\n\n    .dataframe thead th {\n        text-align: right;\n    }\n</style>\n<table border=\"1\" class=\"dataframe\">\n  <thead>\n    <tr style=\"text-align: right;\">\n      <th></th>\n      <th>Date</th>\n      <th>Close</th>\n      <th>Volumen</th>\n      <th>Open</th>\n      <th>High</th>\n      <th>Low</th>\n    </tr>\n  </thead>\n  <tbody>\n    <tr>\n      <th>0</th>\n      <td>12/16/2020</td>\n      <td>275.67</td>\n      <td>15885000.0</td>\n      <td>274.760</td>\n      <td>277.86</td>\n      <td>272.51</td>\n    </tr>\n    <tr>\n      <th>1</th>\n      <td>12/15/2020</td>\n      <td>275.55</td>\n      <td>23979460.0</td>\n      <td>274.830</td>\n      <td>276.08</td>\n      <td>267.47</td>\n    </tr>\n    <tr>\n      <th>2</th>\n      <td>12/14/2020</td>\n      <td>274.19</td>\n      <td>16376880.0</td>\n      <td>273.372</td>\n      <td>277.22</td>\n      <td>271.56</td>\n    </tr>\n    <tr>\n      <th>3</th>\n      <td>12/11/2020</td>\n      <td>273.55</td>\n      <td>14391400.0</td>\n      <td>274.530</td>\n      <td>276.48</td>\n      <td>270.25</td>\n    </tr>\n    <tr>\n      <th>4</th>\n      <td>12/10/2020</td>\n      <td>277.12</td>\n      <td>20065090.0</td>\n      <td>275.535</td>\n      <td>278.73</td>\n      <td>271.86</td>\n    </tr>\n  </tbody>\n</table>\n</div>"
     },
     "metadata": {},
     "execution_count": 238
    },
    {
     "output_type": "execute_result",
     "data": {
      "text/plain": [
       "Date        object\n",
       "Close      float64\n",
       "Volumen    float64\n",
       "Open       float64\n",
       "High       float64\n",
       "Low        float64\n",
       "dtype: object"
      ]
     },
     "metadata": {},
     "execution_count": 238
    }
   ],
   "source": [
    "## change column names\r\n",
    "df.columns\r\n",
    "df.columns = [\"Date\", \"Close\", \"Volumen\", \"Open\", \"High\", \"Low\"]\r\n",
    "\r\n",
    "## remove dollar signs $\r\n",
    "# df = df.replace(\"\\$\",\"\", regex=True)\r\n",
    "df.iloc[:, 1:6] = df.iloc[:, 1:6].replace(\"\\$\",\"\", regex=True).astype(float)\r\n",
    "# df.iloc[:,1:6] = df.iloc[:,1:6].astype(float)\r\n",
    "# df[\"Open\"]\r\n",
    "\r\n",
    "df.head()\r\n",
    "df.dtypes\r\n",
    "# df.describe()"
   ]
  },
  {
   "cell_type": "code",
   "execution_count": 135,
   "metadata": {},
   "outputs": [
    {
     "output_type": "execute_result",
     "data": {
      "text/plain": [
       "        Close/Last        Volume        Open        High         Low\n",
       "count    21.000000  2.100000e+01   21.000000   21.000000   21.000000\n",
       "mean    277.330000  1.594065e+07  277.127714  280.353481  273.329286\n",
       "std       5.218604  4.469399e+06    5.031425    5.868307    4.883843\n",
       "min     268.430000  7.808426e+06  268.490000  270.947100  264.530000\n",
       "25%     274.190000  1.292169e+07  274.520000  277.220000  270.250000\n",
       "50%     276.920000  1.588500e+07  276.030000  277.860000  271.860000\n",
       "75%     279.700000  1.812241e+07  279.190000  286.427200  278.200000\n",
       "max     287.520000  2.518971e+07  286.250000  291.780000  281.550000"
      ],
      "text/html": "<div>\n<style scoped>\n    .dataframe tbody tr th:only-of-type {\n        vertical-align: middle;\n    }\n\n    .dataframe tbody tr th {\n        vertical-align: top;\n    }\n\n    .dataframe thead th {\n        text-align: right;\n    }\n</style>\n<table border=\"1\" class=\"dataframe\">\n  <thead>\n    <tr style=\"text-align: right;\">\n      <th></th>\n      <th>Close/Last</th>\n      <th>Volume</th>\n      <th>Open</th>\n      <th>High</th>\n      <th>Low</th>\n    </tr>\n  </thead>\n  <tbody>\n    <tr>\n      <th>count</th>\n      <td>21.000000</td>\n      <td>2.100000e+01</td>\n      <td>21.000000</td>\n      <td>21.000000</td>\n      <td>21.000000</td>\n    </tr>\n    <tr>\n      <th>mean</th>\n      <td>277.330000</td>\n      <td>1.594065e+07</td>\n      <td>277.127714</td>\n      <td>280.353481</td>\n      <td>273.329286</td>\n    </tr>\n    <tr>\n      <th>std</th>\n      <td>5.218604</td>\n      <td>4.469399e+06</td>\n      <td>5.031425</td>\n      <td>5.868307</td>\n      <td>4.883843</td>\n    </tr>\n    <tr>\n      <th>min</th>\n      <td>268.430000</td>\n      <td>7.808426e+06</td>\n      <td>268.490000</td>\n      <td>270.947100</td>\n      <td>264.530000</td>\n    </tr>\n    <tr>\n      <th>25%</th>\n      <td>274.190000</td>\n      <td>1.292169e+07</td>\n      <td>274.520000</td>\n      <td>277.220000</td>\n      <td>270.250000</td>\n    </tr>\n    <tr>\n      <th>50%</th>\n      <td>276.920000</td>\n      <td>1.588500e+07</td>\n      <td>276.030000</td>\n      <td>277.860000</td>\n      <td>271.860000</td>\n    </tr>\n    <tr>\n      <th>75%</th>\n      <td>279.700000</td>\n      <td>1.812241e+07</td>\n      <td>279.190000</td>\n      <td>286.427200</td>\n      <td>278.200000</td>\n    </tr>\n    <tr>\n      <th>max</th>\n      <td>287.520000</td>\n      <td>2.518971e+07</td>\n      <td>286.250000</td>\n      <td>291.780000</td>\n      <td>281.550000</td>\n    </tr>\n  </tbody>\n</table>\n</div>"
     },
     "metadata": {},
     "execution_count": 135
    }
   ],
   "source": [
    "# range(1,30)\n"
   ]
  },
  {
   "cell_type": "code",
   "execution_count": null,
   "metadata": {},
   "outputs": [],
   "source": []
  }
 ]
}